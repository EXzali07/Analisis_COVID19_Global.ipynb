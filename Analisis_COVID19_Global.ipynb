{
 "cells": [
  {
   "cell_type": "markdown",
   "id": "ba334437",
   "metadata": {},
   "source": [
    "# 📊 Analisis Data COVID-19 Global"
   ]
  },
  {
   "cell_type": "code",
   "execution_count": null,
   "id": "f6e12256",
   "metadata": {},
   "outputs": [],
   "source": [
    "\n",
    "import pandas as pd\n",
    "import matplotlib.pyplot as plt\n",
    "import seaborn as sns\n",
    "\n",
    "plt.style.use('seaborn-whitegrid')\n",
    "sns.set_palette('Set2')\n",
    "\n",
    "df = pd.read_csv(\"countries-aggregated.csv\")\n",
    "df.head()\n"
   ]
  },
  {
   "cell_type": "markdown",
   "id": "9167bac3",
   "metadata": {},
   "source": [
    "## 🔍 Eksplorasi Awal"
   ]
  },
  {
   "cell_type": "code",
   "execution_count": null,
   "id": "31020d1d",
   "metadata": {},
   "outputs": [],
   "source": [
    "\n",
    "df.info()\n"
   ]
  },
  {
   "cell_type": "code",
   "execution_count": null,
   "id": "64492d55",
   "metadata": {},
   "outputs": [],
   "source": [
    "\n",
    "df.describe()\n"
   ]
  },
  {
   "cell_type": "code",
   "execution_count": null,
   "id": "c76acfe2",
   "metadata": {},
   "outputs": [],
   "source": [
    "\n",
    "df.isnull().sum()\n"
   ]
  },
  {
   "cell_type": "markdown",
   "id": "02b1de95",
   "metadata": {},
   "source": [
    "## 📈 Skenario 1: Perkembangan Kasus Global dari Waktu ke Waktu"
   ]
  },
  {
   "cell_type": "code",
   "execution_count": null,
   "id": "5a5e5656",
   "metadata": {},
   "outputs": [],
   "source": [
    "\n",
    "df_global = df.groupby('Date')[['Confirmed', 'Recovered', 'Deaths']].sum().reset_index()\n",
    "\n",
    "plt.figure(figsize=(14,6))\n",
    "plt.plot(df_global['Date'], df_global['Confirmed'], label='Confirmed', color='orange')\n",
    "plt.plot(df_global['Date'], df_global['Recovered'], label='Recovered', color='green')\n",
    "plt.plot(df_global['Date'], df_global['Deaths'], label='Deaths', color='red')\n",
    "plt.xticks(rotation=45)\n",
    "plt.title('📈 Perkembangan Kasus COVID-19 Global')\n",
    "plt.xlabel('Tanggal')\n",
    "plt.ylabel('Jumlah Kasus')\n",
    "plt.legend()\n",
    "plt.tight_layout()\n",
    "plt.show()\n"
   ]
  },
  {
   "cell_type": "markdown",
   "id": "8d6fb616",
   "metadata": {},
   "source": [
    "## 🌍 Skenario 2: Negara dengan Kasus Tertinggi"
   ]
  },
  {
   "cell_type": "code",
   "execution_count": null,
   "id": "2873e0bc",
   "metadata": {},
   "outputs": [],
   "source": [
    "\n",
    "latest_date = df['Date'].max()\n",
    "df_latest = df[df['Date'] == latest_date]\n",
    "\n",
    "top10 = df_latest.sort_values(by='Confirmed', ascending=False).head(10)\n",
    "\n",
    "plt.figure(figsize=(10,6))\n",
    "sns.barplot(data=top10, x='Confirmed', y='Country', palette='viridis')\n",
    "plt.title('🌎 Top 10 Negara dengan Kasus Terkonfirmasi Tertinggi')\n",
    "plt.xlabel('Jumlah Kasus Terkonfirmasi')\n",
    "plt.ylabel('Negara')\n",
    "plt.show()\n"
   ]
  },
  {
   "cell_type": "markdown",
   "id": "19b5292b",
   "metadata": {},
   "source": [
    "## ⚰️ Skenario 3: Negara dengan Rasio Kematian Tertinggi"
   ]
  },
  {
   "cell_type": "code",
   "execution_count": null,
   "id": "a7abde74",
   "metadata": {},
   "outputs": [],
   "source": [
    "\n",
    "df_latest['Death_Rate'] = (df_latest['Deaths'] / df_latest['Confirmed']) * 100\n",
    "\n",
    "top_death_rate = df_latest[df_latest['Confirmed'] > 1000].sort_values(by='Death_Rate', ascending=False).head(10)\n",
    "\n",
    "plt.figure(figsize=(10,6))\n",
    "sns.barplot(data=top_death_rate, x='Death_Rate', y='Country', palette='Reds_r')\n",
    "plt.title('💀 Negara dengan Rasio Kematian Tertinggi')\n",
    "plt.xlabel('Death Rate (%)')\n",
    "plt.ylabel('Negara')\n",
    "plt.show()\n"
   ]
  },
  {
   "cell_type": "markdown",
   "id": "1fec8a35",
   "metadata": {},
   "source": [
    "## 📝 Kesimpulan Awal"
   ]
  },
  {
   "cell_type": "code",
   "execution_count": null,
   "id": "c8e3a995",
   "metadata": {},
   "outputs": [],
   "source": [
    "\n",
    "print(\"\"\"\n",
    "📌 Kesimpulan:\n",
    "\n",
    "1. Jumlah kasus COVID-19 secara global meningkat signifikan sejak awal pandemi.\n",
    "2. Negara seperti USA, India, dan Brazil menunjukkan angka kasus tertinggi.\n",
    "3. Beberapa negara memiliki rasio kematian tinggi — bisa jadi karena infrastruktur kesehatan atau penanganan pandemi.\n",
    "\"\"\")\n"
   ]
  }
 ],
 "metadata": {
  "language": "python"
 },
 "nbformat": 4,
 "nbformat_minor": 5
}